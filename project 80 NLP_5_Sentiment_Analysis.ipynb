{
  "nbformat": 4,
  "nbformat_minor": 0,
  "metadata": {
    "colab": {
      "provenance": []
    },
    "kernelspec": {
      "name": "python3",
      "display_name": "Python 3"
    },
    "language_info": {
      "name": "python"
    }
  },
  "cells": [
    {
      "cell_type": "markdown",
      "source": [
        "- VADER (Valence Aware Dictionary and sEntiment Reasoner), a lexicon-based sentiment analysis tool, to calculate the sentiment scores of a given text.\n",
        "- VADER is particularly designed for social media text but also works well with other types of text.\n",
        "- It provides a polarity score indicating whether the sentiment of the text is positive, negative, neutral, or compound (overall score)."
      ],
      "metadata": {
        "id": "69Jf-dsv3Nuf"
      }
    },
    {
      "cell_type": "code",
      "source": [
        "import nlt\n",
        "nltk.download('vader_lexicon')\n",
        "from nltk.sentiment.vader import SentimentIntensityAnalyzer"
      ],
      "metadata": {
        "colab": {
          "base_uri": "https://localhost:8080/"
        },
        "id": "Lc8a6qlj3Vkj",
        "outputId": "e7edb510-5c0b-448e-b394-08948cbc2be0"
      },
      "execution_count": 3,
      "outputs": [
        {
          "output_type": "stream",
          "name": "stderr",
          "text": [
            "[nltk_data] Downloading package vader_lexicon to /root/nltk_data...\n"
          ]
        }
      ]
    },
    {
      "cell_type": "code",
      "source": [
        "nltk.download('vader_lexicon')"
      ],
      "metadata": {
        "colab": {
          "base_uri": "https://localhost:8080/"
        },
        "id": "-nuoNH2d69Q1",
        "outputId": "0eec0f85-8d0a-47ff-836c-eb5eb7efe3fb"
      },
      "execution_count": 5,
      "outputs": [
        {
          "output_type": "stream",
          "name": "stderr",
          "text": [
            "[nltk_data] Downloading package vader_lexicon to /root/nltk_data...\n",
            "[nltk_data]   Package vader_lexicon is already up-to-date!\n"
          ]
        },
        {
          "output_type": "execute_result",
          "data": {
            "text/plain": [
              "True"
            ]
          },
          "metadata": {},
          "execution_count": 5
        }
      ]
    },
    {
      "cell_type": "code",
      "source": [
        "text = \"Doing well with money isn't necessarily about what you know. It's about how you behave.!\""
      ],
      "metadata": {
        "id": "tG9c5R0R-ihK"
      },
      "execution_count": 6,
      "outputs": []
    },
    {
      "cell_type": "code",
      "source": [
        "sent = SentimentIntensityAnalyzer()    # This initializes an instance of the SentimentIntensityAnalyzer class. The 'sent' object will be used to analyze the sentiment of the text."
      ],
      "metadata": {
        "id": "UdOB7-CV-qwq"
      },
      "execution_count": 7,
      "outputs": []
    },
    {
      "cell_type": "code",
      "source": [
        "sentiment = sent.polarity_scores(text)"
      ],
      "metadata": {
        "id": "NyMClvYj_0A7"
      },
      "execution_count": 9,
      "outputs": []
    },
    {
      "cell_type": "markdown",
      "source": [
        "- This calculates the polarity scores of the input text. The polarity_scores method returns a dictionary with four keys representing different aspects of sentiment:\n",
        "\n",
        "- Negative ('neg'): The likelihood that the text has negative sentiment.\n",
        "\n",
        "- Neutral ('neu'): The likelihood that the text has neutral sentiment.\n",
        "\n",
        "- Positive ('pos'): The likelihood that the text has positive sentiment.\n",
        "\n",
        "- Compound ('compound'): An overall sentiment score that combines the other three. It ranges from -1 (most negative) to 1 (most positive)."
      ],
      "metadata": {
        "id": "Zsdm0LU-A84D"
      }
    },
    {
      "cell_type": "code",
      "source": [
        "print(\"Sentiment Score is:\", sentiment)"
      ],
      "metadata": {
        "colab": {
          "base_uri": "https://localhost:8080/"
        },
        "id": "07Ob52MkA26Q",
        "outputId": "bffd65ea-b671-4c8a-ef08-d48a2bd84596"
      },
      "execution_count": 10,
      "outputs": [
        {
          "output_type": "stream",
          "name": "stdout",
          "text": [
            "Sentiment Score is: {'neg': 0.0, 'neu': 0.854, 'pos': 0.146, 'compound': 0.3382}\n"
          ]
        }
      ]
    },
    {
      "cell_type": "markdown",
      "source": [
        "\n",
        "- 'neg': 0.0: No strong negative words are present in the sentence.\n",
        "\n",
        "- 'neu': 0.746: The text is mostly neutral, as it's more of a factual statement, explaining a concept about money and behavior without strong emotional charge.\n",
        "\n",
        "- 'pos': 0.254: There is a mild positive sentiment in the sentence. Words like \"doing well\" and \"behave\" likely contribute to this slight positivity.\n",
        "\n",
        "- 'compound': 0.4215: The overall sentiment is slightly positive, but leaning towards neutral. A compound score above 0 indicates a somewhat positive tone."
      ],
      "metadata": {
        "id": "UfkL3eM4CuXa"
      }
    },
    {
      "cell_type": "markdown",
      "source": [
        "#Interpretation:\n",
        "\n",
        "- The sentence is neutral to mildly positive. While it's more informative and factual in nature, the phrase \"doing well with money\" introduces a small positive sentiment.\n",
        "\n",
        "- The sentence lacks any highly emotional or charged words, so the sentiment is not strongly skewed in either direction. The overall sentiment score (compound) of 0.4215 suggests a slight positive inclination."
      ],
      "metadata": {
        "id": "3NrsEc3MC6mC"
      }
    }
  ]
}