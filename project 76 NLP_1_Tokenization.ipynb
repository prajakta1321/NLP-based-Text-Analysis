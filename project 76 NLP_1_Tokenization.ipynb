{
  "nbformat": 4,
  "nbformat_minor": 0,
  "metadata": {
    "colab": {
      "provenance": []
    },
    "kernelspec": {
      "name": "python3",
      "display_name": "Python 3"
    },
    "language_info": {
      "name": "python"
    }
  },
  "cells": [
    {
      "cell_type": "code",
      "execution_count": 1,
      "metadata": {
        "colab": {
          "base_uri": "https://localhost:8080/",
          "height": 105
        },
        "id": "oVnTNQYOj_R8",
        "outputId": "a2970677-c8c3-4ff4-9671-841720e623cc"
      },
      "outputs": [
        {
          "output_type": "execute_result",
          "data": {
            "text/plain": [
              "\"\\n book review :  The psychology of Money\\n\\nDoing well with money isn't necessarily about what you know. It's about how you behave. \\nAnd behavior is hard to teach, even to really smart people. \\nMoney--investing, personal finance, and business decisions--is typically taught as a math-based field,\\nwhere data and formulas tell us exactly what to do. \\nBut in the real world people don't make financial decisions on a spreadsheet. \\nThey make them at the dinner table, or in a meeting room, where personal history, \\nyour own unique view of the world, ego, pride, marketing, and odd incentives are scrambled together. \\nIn The Psychology of Money, award-winning author Morgan Housel shares 19 short stories exploring \\nthe strange ways people think about money and teaches you how to make better sense of one of life's most important topics.\\n\""
            ],
            "application/vnd.google.colaboratory.intrinsic+json": {
              "type": "string"
            }
          },
          "metadata": {},
          "execution_count": 1
        }
      ],
      "source": [
        "\"\"\"\n",
        " book review :  The psychology of Money\n",
        "\n",
        "Doing well with money isn't necessarily about what you know. It's about how you behave.\n",
        "And behavior is hard to teach, even to really smart people.\n",
        "Money--investing, personal finance, and business decisions--is typically taught as a math-based field,\n",
        "where data and formulas tell us exactly what to do.\n",
        "But in the real world people don't make financial decisions on a spreadsheet.\n",
        "They make them at the dinner table, or in a meeting room, where personal history,\n",
        "your own unique view of the world, ego, pride, marketing, and odd incentives are scrambled together.\n",
        "In The Psychology of Money, award-winning author Morgan Housel shares 19 short stories exploring\n",
        "the strange ways people think about money and teaches you how to make better sense of one of life's most important topics.\n",
        "\"\"\""
      ]
    },
    {
      "cell_type": "code",
      "source": [
        "# TOKENIZATION\n",
        "import nltk\n",
        "nltk.download('punkt')\n",
        "\n",
        "text = \"Doing well with money isn't necessarily about what you know. It's about how you behave. And behavior is hard to teach, even to really smart people. Money--investing, personal finance, and business decisions--is typically taught as a math-based field,where data and formulas tell us exactly what to do. But in the real world people don't make financial decisions on a spreadsheet. They make them at the dinner table, or in a meeting room, where personal history, your own unique view of the world, ego, pride, marketing, and odd incentives are scrambled together. In The Psychology of Money, award-winning author Morgan Housel shares 19 short stories exploring the strange ways people think about money and teaches you how to make better sense of one of life's most important topics.\"\n",
        "\n",
        "tokens = nltk.word_tokenize(text)    # Tokenization means breaking down a piece of text (a sentence or a paragraph) into its smaller components, like words or punctuation marks.\n",
        "print(\"Tokens:\", tokens)             # along with words punctuations are also a token"
      ],
      "metadata": {
        "colab": {
          "base_uri": "https://localhost:8080/"
        },
        "id": "Cb-6uS9hqJPG",
        "outputId": "035a2030-f6d8-429b-dbe0-3cf067efdd91"
      },
      "execution_count": 1,
      "outputs": [
        {
          "output_type": "stream",
          "name": "stderr",
          "text": [
            "[nltk_data] Downloading package punkt to /root/nltk_data...\n",
            "[nltk_data]   Unzipping tokenizers/punkt.zip.\n"
          ]
        },
        {
          "output_type": "stream",
          "name": "stdout",
          "text": [
            "Tokens: ['Doing', 'well', 'with', 'money', 'is', \"n't\", 'necessarily', 'about', 'what', 'you', 'know', '.', 'It', \"'s\", 'about', 'how', 'you', 'behave', '.', 'And', 'behavior', 'is', 'hard', 'to', 'teach', ',', 'even', 'to', 'really', 'smart', 'people', '.', 'Money', '--', 'investing', ',', 'personal', 'finance', ',', 'and', 'business', 'decisions', '--', 'is', 'typically', 'taught', 'as', 'a', 'math-based', 'field', ',', 'where', 'data', 'and', 'formulas', 'tell', 'us', 'exactly', 'what', 'to', 'do', '.', 'But', 'in', 'the', 'real', 'world', 'people', 'do', \"n't\", 'make', 'financial', 'decisions', 'on', 'a', 'spreadsheet', '.', 'They', 'make', 'them', 'at', 'the', 'dinner', 'table', ',', 'or', 'in', 'a', 'meeting', 'room', ',', 'where', 'personal', 'history', ',', 'your', 'own', 'unique', 'view', 'of', 'the', 'world', ',', 'ego', ',', 'pride', ',', 'marketing', ',', 'and', 'odd', 'incentives', 'are', 'scrambled', 'together', '.', 'In', 'The', 'Psychology', 'of', 'Money', ',', 'award-winning', 'author', 'Morgan', 'Housel', 'shares', '19', 'short', 'stories', 'exploring', 'the', 'strange', 'ways', 'people', 'think', 'about', 'money', 'and', 'teaches', 'you', 'how', 'to', 'make', 'better', 'sense', 'of', 'one', 'of', 'life', \"'s\", 'most', 'important', 'topics', '.']\n"
          ]
        }
      ]
    },
    {
      "cell_type": "markdown",
      "source": [
        "example : The word \"isn't\" is split into  \"is\" and \"n't\"\n",
        "\n",
        "Tokenizers often split contractions to make each word and part of a word distinct. This is useful because \"is\" and \"not\" are treated as individual components, helping models better understand the structure of the sentence.\n",
        "\n",
        "Contractions like \"isn't\", consist of two components:\n",
        "\n",
        "- The verb part: \"is\"\n",
        "- The negation part: \"n't\" (short for \"not\")\n",
        "\n",
        "\n",
        "- By splitting contractions, the model can separately analyze the verb (\"is\") and the negation (\"n't\"), improving tasks like sentiment analysis or part-of-speech tagging.\n",
        "\n"
      ],
      "metadata": {
        "id": "DAl8qo9uGS0N"
      }
    }
  ]
}