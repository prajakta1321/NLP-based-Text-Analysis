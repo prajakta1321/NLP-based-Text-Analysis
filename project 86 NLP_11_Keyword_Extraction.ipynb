{
  "nbformat": 4,
  "nbformat_minor": 0,
  "metadata": {
    "colab": {
      "provenance": []
    },
    "kernelspec": {
      "name": "python3",
      "display_name": "Python 3"
    },
    "language_info": {
      "name": "python"
    }
  },
  "cells": [
    {
      "cell_type": "code",
      "execution_count": null,
      "metadata": {
        "id": "pGKxfhCmvc8h"
      },
      "outputs": [],
      "source": []
    },
    {
      "cell_type": "markdown",
      "source": [
        "- Keyword extraction helps identify the most important words or phrases from a text, which can be helpful for summarization, tagging, and categorization."
      ],
      "metadata": {
        "id": "LObHpxyHv8JZ"
      }
    },
    {
      "cell_type": "code",
      "source": [
        "!pip install rake-nltk\n",
        "\n",
        "from rake_nltk import Rake"
      ],
      "metadata": {
        "colab": {
          "base_uri": "https://localhost:8080/"
        },
        "id": "7DEnwx1Iv9lw",
        "outputId": "997b2286-f7ec-4ea6-dd7a-94de0c972ed2"
      },
      "execution_count": 1,
      "outputs": [
        {
          "output_type": "stream",
          "name": "stdout",
          "text": [
            "Collecting rake-nltk\n",
            "  Downloading rake_nltk-1.0.6-py3-none-any.whl.metadata (6.4 kB)\n",
            "Requirement already satisfied: nltk<4.0.0,>=3.6.2 in /usr/local/lib/python3.10/dist-packages (from rake-nltk) (3.8.1)\n",
            "Requirement already satisfied: click in /usr/local/lib/python3.10/dist-packages (from nltk<4.0.0,>=3.6.2->rake-nltk) (8.1.7)\n",
            "Requirement already satisfied: joblib in /usr/local/lib/python3.10/dist-packages (from nltk<4.0.0,>=3.6.2->rake-nltk) (1.4.2)\n",
            "Requirement already satisfied: regex>=2021.8.3 in /usr/local/lib/python3.10/dist-packages (from nltk<4.0.0,>=3.6.2->rake-nltk) (2024.9.11)\n",
            "Requirement already satisfied: tqdm in /usr/local/lib/python3.10/dist-packages (from nltk<4.0.0,>=3.6.2->rake-nltk) (4.66.6)\n",
            "Downloading rake_nltk-1.0.6-py3-none-any.whl (9.1 kB)\n",
            "Installing collected packages: rake-nltk\n",
            "Successfully installed rake-nltk-1.0.6\n"
          ]
        }
      ]
    },
    {
      "cell_type": "code",
      "source": [
        "import nltk\n",
        "nltk.download('stopwords')\n",
        "nltk.download('punkt')"
      ],
      "metadata": {
        "colab": {
          "base_uri": "https://localhost:8080/"
        },
        "id": "uOTmygvbwUj-",
        "outputId": "89f47fb9-d424-4e2f-bc61-3fa28a27a0df"
      },
      "execution_count": 8,
      "outputs": [
        {
          "output_type": "stream",
          "name": "stderr",
          "text": [
            "[nltk_data] Downloading package stopwords to /root/nltk_data...\n",
            "[nltk_data]   Package stopwords is already up-to-date!\n",
            "[nltk_data] Downloading package punkt to /root/nltk_data...\n",
            "[nltk_data]   Unzipping tokenizers/punkt.zip.\n"
          ]
        },
        {
          "output_type": "execute_result",
          "data": {
            "text/plain": [
              "True"
            ]
          },
          "metadata": {},
          "execution_count": 8
        }
      ]
    },
    {
      "cell_type": "code",
      "source": [
        "text = \"\"\"\n",
        "Natural Language Processing (NLP) is a fascinating field of artificial intelligence.\n",
        "It helps computers understand, interpret, and respond to human language.\n",
        "NLP applications include machine translation, sentiment analysis, chatbots,\n",
        "and much more that aids in smooth communication between humans and computers.\n",
        "\"\"\""
      ],
      "metadata": {
        "id": "pt7OrTLBwC5w"
      },
      "execution_count": 9,
      "outputs": []
    },
    {
      "cell_type": "code",
      "source": [
        "rake_nltk_var = Rake()    # initializing rake for keyword extraction"
      ],
      "metadata": {
        "id": "Nhv_p8xdwKWK"
      },
      "execution_count": 10,
      "outputs": []
    },
    {
      "cell_type": "markdown",
      "source": [
        "- RAKE is a simple and fast keyword extraction algorithm that extracts phrases based on the frequency and co-occurrence of words."
      ],
      "metadata": {
        "id": "TwqlPLMRxFdo"
      }
    },
    {
      "cell_type": "code",
      "source": [
        "rake_nltk_var.extract_keywords_from_text(text)   # extract keywords from the text"
      ],
      "metadata": {
        "id": "HVDRjx3FwZm2"
      },
      "execution_count": 11,
      "outputs": []
    },
    {
      "cell_type": "code",
      "source": [
        "keywords = rake_nltk_var.get_ranked_phrases()   # get the ranked keyword"
      ],
      "metadata": {
        "id": "Ce_d1Aj3wkrD"
      },
      "execution_count": 12,
      "outputs": []
    },
    {
      "cell_type": "markdown",
      "source": [
        "- keywords will contain a list of the most important phrases in the text, ordered by importance."
      ],
      "metadata": {
        "id": "c169rvlsxJ-6"
      }
    },
    {
      "cell_type": "code",
      "source": [
        "print(\"The keywords are as:\", keywords)"
      ],
      "metadata": {
        "colab": {
          "base_uri": "https://localhost:8080/"
        },
        "id": "-WlWZ8dHwoob",
        "outputId": "efd211e5-1b44-47cc-9883-8cead8bfe29a"
      },
      "execution_count": 13,
      "outputs": [
        {
          "output_type": "stream",
          "name": "stdout",
          "text": [
            "The keywords are as: ['nlp applications include machine translation', 'natural language processing', 'helps computers understand', 'human language', 'smooth communication', 'sentiment analysis', 'fascinating field', 'artificial intelligence', 'nlp', 'computers', 'respond', 'much', 'interpret', 'humans', 'chatbots', 'aids']\n"
          ]
        }
      ]
    },
    {
      "cell_type": "markdown",
      "source": [
        "INTERPRETATION:\n",
        "\n",
        "- Here, if observed all words are termed as keywords even if the words do not have much uniqueness.\n",
        "- quite a few words have been identified as keywords, and that can sometimes happen with simpler keyword extraction methods like RAKE.\n",
        "- Not every recurring word is equally meaningful.\n",
        "- To filter out such extra words, more advanced NLP methods, such as Term Frequency-Inverse Document Frequency (TF-IDF) or named entity recognition (NER), can help zero in on truly unique and relevant terms that capture the core message.\n",
        "- while RAKE is a good start, combining it with methods like TF-IDF or manual filtering can improve the accuracy of the keywords by filtering out overly general terms."
      ],
      "metadata": {
        "id": "FNVpMFYszrll"
      }
    }
  ]
}