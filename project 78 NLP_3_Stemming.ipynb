{
  "nbformat": 4,
  "nbformat_minor": 0,
  "metadata": {
    "colab": {
      "provenance": []
    },
    "kernelspec": {
      "name": "python3",
      "display_name": "Python 3"
    },
    "language_info": {
      "name": "python"
    }
  },
  "cells": [
    {
      "cell_type": "code",
      "execution_count": 1,
      "metadata": {
        "id": "E1jmkcpVmM-P"
      },
      "outputs": [],
      "source": [
        "# stemming: This process reduces words to their base or root form. It helps in consolidating words with similar meanings, allowing NLP models to treat them uniformly.\n",
        "\n",
        "from nltk.stem import PorterStemmer\n",
        "\n",
        "text = \"Doing well with money isn't necessarily about what you know. It's about how you behave. And behavior is hard to teach, even to really smart people. Money--investing, personal finance, and business decisions--is typically taught as a math-based field,where data and formulas tell us exactly what to do. But in the real world people don't make financial decisions on a spreadsheet. They make them at the dinner table, or in a meeting room, where personal history, your own unique view of the world, ego, pride, marketing, and odd incentives are scrambled together. In The Psychology of Money, award-winning author Morgan Housel shares 19 short stories exploring the strange ways people think about money and teaches you how to make better sense of one of life's most important topics.\""
      ]
    },
    {
      "cell_type": "markdown",
      "source": [
        "STEMMING :\n",
        "\n",
        " - It reduces words to their root or base form (known as the \"stem\").\n",
        " - For example, it will convert \"enjoying,\" \"enjoyed,\" and \"enjoy\" to the same root form."
      ],
      "metadata": {
        "id": "viCwBA3unGVO"
      }
    },
    {
      "cell_type": "code",
      "source": [
        "ps = PorterStemmer()   # creates an instance of the porter stemmer class to use to stem words\n",
        "stemmed_words = [ps.stem(word) for word in text.split()]    #text.split() breaks the sentence into individual words as seen below.\n",
        "\n",
        "# the for loop iterates through each word in the list and applies the stem() method of the Porter Stemmer to each word. This method reduces each word to its stem form.\n"
      ],
      "metadata": {
        "id": "JXo9U6NamwXI"
      },
      "execution_count": 2,
      "outputs": []
    },
    {
      "cell_type": "code",
      "source": [
        "print(\"Stemmed Words are:\", stemmed_words)"
      ],
      "metadata": {
        "colab": {
          "base_uri": "https://localhost:8080/"
        },
        "id": "epMzpjxImzVO",
        "outputId": "1f768c99-9a88-4d48-8d6e-f84484ef0d7f"
      },
      "execution_count": 3,
      "outputs": [
        {
          "output_type": "stream",
          "name": "stdout",
          "text": [
            "Stemmed Words are: ['do', 'well', 'with', 'money', \"isn't\", 'necessarili', 'about', 'what', 'you', 'know.', \"it'\", 'about', 'how', 'you', 'behave.', 'and', 'behavior', 'is', 'hard', 'to', 'teach,', 'even', 'to', 'realli', 'smart', 'people.', 'money--investing,', 'person', 'finance,', 'and', 'busi', 'decisions--i', 'typic', 'taught', 'as', 'a', 'math-bas', 'field,wher', 'data', 'and', 'formula', 'tell', 'us', 'exactli', 'what', 'to', 'do.', 'but', 'in', 'the', 'real', 'world', 'peopl', \"don't\", 'make', 'financi', 'decis', 'on', 'a', 'spreadsheet.', 'they', 'make', 'them', 'at', 'the', 'dinner', 'table,', 'or', 'in', 'a', 'meet', 'room,', 'where', 'person', 'history,', 'your', 'own', 'uniqu', 'view', 'of', 'the', 'world,', 'ego,', 'pride,', 'marketing,', 'and', 'odd', 'incent', 'are', 'scrambl', 'together.', 'in', 'the', 'psycholog', 'of', 'money,', 'award-win', 'author', 'morgan', 'housel', 'share', '19', 'short', 'stori', 'explor', 'the', 'strang', 'way', 'peopl', 'think', 'about', 'money', 'and', 'teach', 'you', 'how', 'to', 'make', 'better', 'sens', 'of', 'one', 'of', \"life'\", 'most', 'import', 'topics.']\n"
          ]
        }
      ]
    },
    {
      "cell_type": "markdown",
      "source": [
        "- Stemming is useful in tasks like information retrieval, text classification, and sentiment analysis, where you want to group related words together to improve model performance."
      ],
      "metadata": {
        "id": "dFRAjkebn-_H"
      }
    }
  ]
}