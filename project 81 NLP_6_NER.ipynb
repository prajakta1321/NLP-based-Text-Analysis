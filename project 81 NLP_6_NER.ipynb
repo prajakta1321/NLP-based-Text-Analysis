{
  "nbformat": 4,
  "nbformat_minor": 0,
  "metadata": {
    "colab": {
      "provenance": []
    },
    "kernelspec": {
      "name": "python3",
      "display_name": "Python 3"
    },
    "language_info": {
      "name": "python"
    }
  },
  "cells": [
    {
      "cell_type": "markdown",
      "source": [
        "NER identifies words or phrases in text that represent entities such as people, places, organizations, dates, monetary values, etc."
      ],
      "metadata": {
        "id": "tEMFh6EHF4ak"
      }
    },
    {
      "cell_type": "code",
      "source": [
        "import spacy"
      ],
      "metadata": {
        "id": "ITc2VUysGt2B"
      },
      "execution_count": 1,
      "outputs": []
    },
    {
      "cell_type": "code",
      "source": [
        "nlp = spacy.load(\"en_core_web_sm\")\n",
        "# loads  a spacy model for processing the english text"
      ],
      "metadata": {
        "id": "2oa-CbnoG0Ln"
      },
      "execution_count": 2,
      "outputs": []
    },
    {
      "cell_type": "markdown",
      "source": [
        "The model includes word vectors and linguistic features tailored for English, allowing it to perform tasks like part-of-speech tagging, dependency parsing, and named entity recognition."
      ],
      "metadata": {
        "id": "imWVgDwpHE-7"
      }
    },
    {
      "cell_type": "code",
      "source": [
        "text = \"I was sick for few days in Mumbai. yesterday I ate  an orange, a tomato and a cucumber which I bought for 100 rupees.\""
      ],
      "metadata": {
        "id": "KPbFlV6VHGHF"
      },
      "execution_count": 6,
      "outputs": []
    },
    {
      "cell_type": "code",
      "source": [
        "doc = nlp(text)   #processing the test"
      ],
      "metadata": {
        "id": "Tu_3msysHXnB"
      },
      "execution_count": 7,
      "outputs": []
    },
    {
      "cell_type": "markdown",
      "source": [
        "The result, doc, is a spaCy document object, containing tokens and annotations such as entities, parts of speech, and dependencies."
      ],
      "metadata": {
        "id": "eRegwh9KHf01"
      }
    },
    {
      "cell_type": "code",
      "source": [
        "for ent in doc.ents:\n",
        "    print(ent.text, ent.label_)"
      ],
      "metadata": {
        "colab": {
          "base_uri": "https://localhost:8080/"
        },
        "id": "xau_0NOdHhIn",
        "outputId": "2c3eb111-6d38-4a91-afb6-6e7d76d00066"
      },
      "execution_count": 8,
      "outputs": [
        {
          "output_type": "stream",
          "name": "stdout",
          "text": [
            "few days DATE\n",
            "Mumbai GPE\n",
            "yesterday DATE\n",
            "100 CARDINAL\n"
          ]
        }
      ]
    },
    {
      "cell_type": "markdown",
      "source": [
        "For each ent (entity) in doc.ents, ent.text gives the entity text, and ent.label_ provides the entity type label (e.g., PERSON, ORG for organization, GPE for geographical locations, MONEY for monetary values, etc.)."
      ],
      "metadata": {
        "id": "ajHOdMyDIrFL"
      }
    },
    {
      "cell_type": "markdown",
      "source": [
        "\n",
        "- Mumbai - GPE (Geopolitical Entity):\n",
        "\n",
        "- The model identifies \"Mumbai\" as a GPE, which represents a geopolitical entity such as a city, state, or country. Here, it's correctly recognized as a city in India.\n",
        "\n",
        "- Yesterday - DATE:\n",
        "\n",
        "- The word \"Yesterday\" is classified as DATE, referring to a point in time (a past date). SpaCy recognizes common expressions of time, like \"yesterday,\" \"tomorrow,\" or specific dates like \"March 1st.\"\n",
        "\n",
        "- 100 rupees - MONEY:\n",
        "\n",
        "- The phrase \"100 rupees\" is identified as MONEY, a monetary amount. SpaCy recognizes this as a specific quantity of money, and \"rupees\" signifies the currency (INR or Indian Rupee)."
      ],
      "metadata": {
        "id": "_COQGqFFJglP"
      }
    },
    {
      "cell_type": "markdown",
      "source": [
        "- Named Entity Recognition (NER) with spaCy is commonly used for extracting structured information from unstructured text, making it a powerful tool in various NLP applications.\n",
        "- NER identifies specific types of information within a text, such as names, locations, dates, monetary amounts, and more.\n",
        "\n",
        "- SpaCy is highly optimized for speed and efficiency, ideal for real-time applications and handling large volumes of text.\n",
        "\n",
        "- eg :\n",
        "information extraction,\n",
        "text classification, improving search relevance, data structuring for ML etc.\n",
        "\n",
        "\n",
        "- Other libraries to use instead of spacy ⁉\n",
        "- NLTK\n",
        "- Textblob\n",
        "- Transformers like huggind face\n",
        "- Flair\n",
        "- gensim"
      ],
      "metadata": {
        "id": "Um1mokJHJ10J"
      }
    }
  ]
}