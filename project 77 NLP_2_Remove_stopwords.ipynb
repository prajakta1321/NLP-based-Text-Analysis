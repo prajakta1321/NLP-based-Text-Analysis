{
  "nbformat": 4,
  "nbformat_minor": 0,
  "metadata": {
    "colab": {
      "provenance": []
    },
    "kernelspec": {
      "name": "python3",
      "display_name": "Python 3"
    },
    "language_info": {
      "name": "python"
    }
  },
  "cells": [
    {
      "cell_type": "code",
      "execution_count": 2,
      "metadata": {
        "colab": {
          "base_uri": "https://localhost:8080/"
        },
        "id": "O5i7pTgQTjcE",
        "outputId": "cb787342-132e-4fcd-f98f-c8b4f32bfdc8"
      },
      "outputs": [
        {
          "output_type": "stream",
          "name": "stderr",
          "text": [
            "[nltk_data] Downloading package stopwords to /root/nltk_data...\n",
            "[nltk_data]   Unzipping corpora/stopwords.zip.\n"
          ]
        },
        {
          "output_type": "execute_result",
          "data": {
            "text/plain": [
              "True"
            ]
          },
          "metadata": {},
          "execution_count": 2
        }
      ],
      "source": [
        "import nltk\n",
        "from nltk.corpus import stopwords\n",
        "nltk.download('stopwords')           # This downloads the stopwords dataset from NLTK. It includes predefined stopwords for various languages"
      ]
    },
    {
      "cell_type": "markdown",
      "source": [
        "##STOPWORDS##\n",
        "\n",
        "Stopwords are common words (like \"is\", \"the\", \"in\", etc.) that don't contribute much to the meaning of the text and are often removed in NLP tasks.\n",
        "\n",
        "\n",
        "\n",
        "##Stopwords Removal:\n",
        "\n",
        "This process eliminates common words that are often unimportant in NLP tasks, allowing you to focus on the more meaningful words in the text.\n",
        "\n",
        "\n",
        "\n",
        "## Lowercasing:\n",
        "\n",
        "By converting words to lowercase, the code ensures that the comparison with stopwords is case-insensitive.\n",
        "\n",
        "\n",
        "## Filtering:\n",
        "\n",
        "The remaining words are non-stopwords, which could be more useful for analysis, such as topic modeling or sentiment analysis."
      ],
      "metadata": {
        "id": "EEuDXZUYU7jm"
      }
    },
    {
      "cell_type": "code",
      "source": [
        "text = \"Doing well with money isn't necessarily about what you know. It's about how you behave. And behavior is hard to teach, even to really smart people. Money--investing, personal finance, and business decisions--is typically taught as a math-based field,where data and formulas tell us exactly what to do. But in the real world people don't make financial decisions on a spreadsheet. They make them at the dinner table, or in a meeting room, where personal history, your own unique view of the world, ego, pride, marketing, and odd incentives are scrambled together. In The Psychology of Money, award-winning author Morgan Housel shares 19 short stories exploring the strange ways people think about money and teaches you how to make better sense of one of life's most important topics.\"\n",
        "\n",
        "stop_words = set(stopwords.words('english'))  # his line retrieves the list of English stopwords and converts it into a set for faster lookup. Stopwords like \"is\", \"a\", \"the\", etc., are now available in stop_words.\n",
        "\n",
        "filtered_text = [word for word in text.split() if word.lower() not in stop_words]\n",
        "\n",
        "print(\"Filtered Text:\", filtered_text)"
      ],
      "metadata": {
        "colab": {
          "base_uri": "https://localhost:8080/"
        },
        "id": "tiDb1qJsUG3R",
        "outputId": "e56fcae4-9861-4a06-9639-7582340d71ec"
      },
      "execution_count": 3,
      "outputs": [
        {
          "output_type": "stream",
          "name": "stdout",
          "text": [
            "Filtered Text: ['well', 'money', 'necessarily', 'know.', 'behave.', 'behavior', 'hard', 'teach,', 'even', 'really', 'smart', 'people.', 'Money--investing,', 'personal', 'finance,', 'business', 'decisions--is', 'typically', 'taught', 'math-based', 'field,where', 'data', 'formulas', 'tell', 'us', 'exactly', 'do.', 'real', 'world', 'people', 'make', 'financial', 'decisions', 'spreadsheet.', 'make', 'dinner', 'table,', 'meeting', 'room,', 'personal', 'history,', 'unique', 'view', 'world,', 'ego,', 'pride,', 'marketing,', 'odd', 'incentives', 'scrambled', 'together.', 'Psychology', 'Money,', 'award-winning', 'author', 'Morgan', 'Housel', 'shares', '19', 'short', 'stories', 'exploring', 'strange', 'ways', 'people', 'think', 'money', 'teaches', 'make', 'better', 'sense', 'one', \"life's\", 'important', 'topics.']\n"
          ]
        }
      ]
    }
  ]
}